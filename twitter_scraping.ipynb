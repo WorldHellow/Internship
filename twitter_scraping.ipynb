{
 "cells": [
  {
   "cell_type": "code",
   "execution_count": 1,
   "id": "cec2144f",
   "metadata": {},
   "outputs": [],
   "source": [
    "import tweepy\n",
    "import numpy as np\n",
    "import pandas as pd\n",
    "import time"
   ]
  },
  {
   "cell_type": "code",
   "execution_count": 2,
   "id": "bbf7ccb5",
   "metadata": {},
   "outputs": [],
   "source": [
    "geo_coordinates = {\"Argentina\":\"-38.4161,-63.6167\",\n",
    "                   \"Bolivia\": \"-16.2902,-63.5887\",\n",
    "                   \"Chile\": \"-35.6751,-71.5430\",\n",
    "                   \"Colombia\":\"4.5709,-74.2973\",\n",
    "                   \"Costa_Rica\":\"9.7489,-83.7534\", \n",
    "                   \"Cuba\":\"21.5218,-77.7812\",\n",
    "                   \"Dominican_Republic\":\"18.7357,-70.1627\",\n",
    "                   \"Ecuador\":\"-1.8312,-78.1834\",\n",
    "                   \"El_Salvador\":\"13.7942,-88.8965\",\n",
    "                   \"Guatemala\":\"15.7835,-90.2308\",\n",
    "                   \"Honduras\":\"15.2000,-86.2419\",\n",
    "                   \"Mexico\":\"23.6345,-102.5528\",\n",
    "                   \"Nicaragua\":\"12.8654,-85.2072\",\n",
    "                   \"Panama\":\"8.5380,-80.7821\",\n",
    "                   \"Paraguay\":\"-23.4425,-58.4438\",\n",
    "                   \"Peru\":\"-9.1900,-75.0152\",\n",
    "                   \"Uruguay\":\"-32.5228,-55.7658\",\n",
    "                   \"Venezuela\":\"6.4238,-66.5897\"\n",
    "                  }"
   ]
  },
  {
   "cell_type": "code",
   "execution_count": 3,
   "id": "4f53c0a9",
   "metadata": {},
   "outputs": [],
   "source": [
    "CONSUMER_KEY = 'pBVHBFfc7Wb6BplJXAnSIWU10'\n",
    "CONSUMER_TOKEN = 'bE9b3g4m8J3ul5nloDhII5kpWnLxNH6Gqy0Rd7IpR51JQ4qq1E'\n",
    "\n",
    "ACCESS_KEY = '471369623-JSGbfk2TNoGRFvo8NWEMd8mfjuNAswayIixX5MtF'\n",
    "ACCESS_TOKEN = 'WsD9nrUnCXZogUHdHiMIhMOyy4qutSN5IWNfO8kVVBSn7'"
   ]
  },
  {
   "cell_type": "code",
   "execution_count": 4,
   "id": "f66769c5",
   "metadata": {},
   "outputs": [],
   "source": [
    "auth = tweepy.OAuthHandler(CONSUMER_KEY, CONSUMER_TOKEN)\n",
    "auth.set_access_token(ACCESS_KEY, ACCESS_TOKEN)\n",
    "api = tweepy.API(auth)"
   ]
  },
  {
   "cell_type": "code",
   "execution_count": 5,
   "id": "2367ae63",
   "metadata": {},
   "outputs": [],
   "source": [
    "def scrap_tweets(coord):\n",
    "    keywords = ''\n",
    "    tweets = tweepy.Cursor(api.search_tweets, q=keywords, tweet_mode='extended', lang='es', geocode=coord, count=200).items()\n",
    "    number_of_tweets = 0\n",
    "    count = 0\n",
    "    tweet = list()\n",
    "    tweet_id = list()\n",
    "    user_id = list()\n",
    "    coordinates = list()\n",
    "    location = list()\n",
    "    created_at = list()\n",
    "    for i in tweets:\n",
    "        tweet.append(i._json['full_text'])\n",
    "        tweet_id.append(i._json['id'])\n",
    "        user_id.append(i._json['user']['id'])\n",
    "        coordinates.append(i._json['coordinates'])\n",
    "        location.append(i._json['user']['location'])\n",
    "        created_at.append(i._json['created_at'])\n",
    "        count += 1\n",
    "        number_of_tweets += 1\n",
    "        if (count == 15000):\n",
    "            time.sleep(1000)\n",
    "            count = 0\n",
    "        if (number_of_tweets == 1000000):\n",
    "            df = pd.DataFrame(zip(tweet,tweet_id, user_id,created_at,coordinates, location), columns=['tweets','tweet_id','user_id','time-date','coordinates','location'])\n",
    "            return df"
   ]
  },
  {
   "cell_type": "code",
   "execution_count": null,
   "id": "6c9c24e9",
   "metadata": {},
   "outputs": [],
   "source": [
    "for i in geo_coordinates:\n",
    "    start_time = time.time()\n",
    "    \n",
    "    geo = geo_coordinates[i]+\",300km\"\n",
    "    tweet_df = scrap_tweets(geo)\n",
    "    print('Extraction time for tweets: ' + str(time.time() - start_time) + \" seconds\")\n",
    "    print('Tweets for ' + i + ' extracted.')\n",
    "    print(tweet_df)\n",
    "    \n",
    "    tweet_df.to_csv('tweets_'+i+'.csv',sep='\\t', index=False)\n",
    "    time.sleep(1000)"
   ]
  },
  {
   "cell_type": "code",
   "execution_count": null,
   "id": "3bfcb34c",
   "metadata": {},
   "outputs": [],
   "source": []
  }
 ],
 "metadata": {
  "kernelspec": {
   "display_name": "Python 3 (ipykernel)",
   "language": "python",
   "name": "python3"
  },
  "language_info": {
   "codemirror_mode": {
    "name": "ipython",
    "version": 3
   },
   "file_extension": ".py",
   "mimetype": "text/x-python",
   "name": "python",
   "nbconvert_exporter": "python",
   "pygments_lexer": "ipython3",
   "version": "3.9.7"
  }
 },
 "nbformat": 4,
 "nbformat_minor": 5
}
